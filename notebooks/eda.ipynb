{
 "cells": [
  {
   "cell_type": "code",
   "execution_count": 2,
   "id": "4408b71e",
   "metadata": {},
   "outputs": [],
   "source": [
    "import pandas as pd\n",
    "import seaborn as sns\n",
    "import matplotlib.pyplot as plt\n",
    "%matplotlib inline\n",
    "import numpy as np"
   ]
  },
  {
   "cell_type": "code",
   "execution_count": null,
   "id": "edde3080",
   "metadata": {},
   "outputs": [],
   "source": [
    "path=r\"C:\\Users\\HP\\churn pipeline\\train_data\\WA_Fn-UseC_-Telco-Customer-Churn.csv\"\n",
    "data=pd.read_csv(path)\n",
    "data"
   ]
  },
  {
   "cell_type": "code",
   "execution_count": null,
   "id": "96c8ebf7",
   "metadata": {},
   "outputs": [],
   "source": [
    "non_unique = data[\"customerID\"].duplicated(keep=False)\n",
    "non_unique.unique() #no repeated columns"
   ]
  },
  {
   "cell_type": "code",
   "execution_count": null,
   "id": "5b045292",
   "metadata": {},
   "outputs": [],
   "source": [
    "every_columns=data.columns\n",
    "data[\"OnlineBackup\"] #catigorical variable\n",
    "every_columns"
   ]
  },
  {
   "cell_type": "code",
   "execution_count": null,
   "id": "e591f77d",
   "metadata": {},
   "outputs": [],
   "source": [
    "categorical_data=pd.concat([data[\"gender\"],data[\"SeniorCitizen\"],data[\"Partner\"],\n",
    "             data[\"Dependents\"],data[\"tenure\"],data[\"PhoneService\"],data[\"MultipleLines\"],data[\"InternetService\"],\n",
    "             data[\"OnlineSecurity\"],data[\"OnlineBackup\"],data['DeviceProtection'],data['TechSupport'],data['StreamingTV'], \n",
    "             data[\"StreamingMovies\"],data[\"Contract\"],data[\"PaperlessBilling\"],data['PaymentMethod'],data['Churn']]\n",
    "                         ,axis=1).astype('category', copy=False)\n",
    "categorical_data"
   ]
  },
  {
   "cell_type": "code",
   "execution_count": null,
   "id": "a89878f7",
   "metadata": {},
   "outputs": [],
   "source": [
    "from sklearn.preprocessing import LabelEncoder\n",
    "\n",
    "le = LabelEncoder()\n",
    "encoded_data = categorical_data.apply(lambda col: le.fit_transform(col))\n",
    "encoded_data"
   ]
  },
  {
   "cell_type": "code",
   "execution_count": null,
   "id": "6a9ddda4",
   "metadata": {},
   "outputs": [],
   "source": [
    "concat_data=pd.concat([data['MonthlyCharges'],data['TotalCharges']],axis=1)\n",
    "filltered_data=pd.concat([concat_data,encoded_data],axis=1)\n",
    "filltered_data.isnull().sum()"
   ]
  },
  {
   "cell_type": "code",
   "execution_count": null,
   "id": "da2b7265",
   "metadata": {},
   "outputs": [],
   "source": [
    "for col in filltered_data.columns:\n",
    "    num_spaces = (filltered_data[col] == ' ').sum()\n",
    "    num_empty = (filltered_data[col] == '').sum()\n",
    "    if num_spaces > 0 or num_empty > 0:\n",
    "        print(f\"Column '{col}' has {num_spaces} spaces and {num_empty} empty strings\")"
   ]
  },
  {
   "cell_type": "code",
   "execution_count": null,
   "id": "ee120ebc",
   "metadata": {},
   "outputs": [],
   "source": [
    "mask = filltered_data.applymap(lambda x: isinstance(x, str) and x.strip() == '')\n",
    "filltered_data = filltered_data[~mask.any(axis=1)]"
   ]
  },
  {
   "cell_type": "code",
   "execution_count": null,
   "id": "e276d2a6",
   "metadata": {},
   "outputs": [],
   "source": [
    "filltered_data"
   ]
  },
  {
   "cell_type": "code",
   "execution_count": null,
   "id": "8abe831b",
   "metadata": {},
   "outputs": [],
   "source": [
    "fig,ax=plt.subplots(5,4,figsize=(12,12)) #filltered_data\n",
    "counts=0\n",
    "l=[]\n",
    "for j in range(5):\n",
    "    for c in range(4):\n",
    "        \n",
    "        col = filltered_data.columns[counts]\n",
    "        ax[j][c].hist(filltered_data[col], bins=20, color='skyblue', edgecolor='black')\n",
    "        ax[j][c].set_title(f'Distribution of {col}')\n",
    "        counts += 1\n",
    "\n",
    "ax[j][c].axis('off')\n",
    "plt.tight_layout()\n",
    "plt.show()"
   ]
  },
  {
   "cell_type": "code",
   "execution_count": null,
   "id": "918f74af",
   "metadata": {},
   "outputs": [],
   "source": [
    "filltered_data"
   ]
  },
  {
   "cell_type": "code",
   "execution_count": null,
   "id": "a1358eaa",
   "metadata": {},
   "outputs": [],
   "source": [
    "corr_matrix = filltered_data.corr(method='spearman')\n",
    "corr_matrix"
   ]
  },
  {
   "cell_type": "code",
   "execution_count": null,
   "id": "156fd006",
   "metadata": {},
   "outputs": [],
   "source": [
    "sns.countplot(data=filltered_data,x=\"Churn\")"
   ]
  },
  {
   "cell_type": "code",
   "execution_count": 16,
   "id": "05d273cc",
   "metadata": {},
   "outputs": [],
   "source": [
    "import os\n",
    "\n",
    "save_dir = '../data/processed'\n",
    "save_path = os.path.join(save_dir,'filltered_data.csv')\n",
    "\n",
    "os.makedirs(save_dir, exist_ok=True)\n",
    "filltered_data.to_csv(save_path, index=False)"
   ]
  },
  {
   "cell_type": "code",
   "execution_count": 17,
   "id": "13436f69",
   "metadata": {},
   "outputs": [],
   "source": [
    "from sklearn.ensemble import IsolationForest\n",
    "from sklearn.neighbors import LocalOutlierFactor\n",
    "from sklearn.svm import OneClassSVM\n",
    "\n",
    "iso_forest = IsolationForest(contamination=0.1)\n",
    "iso_pred = iso_forest.fit_predict(filltered_data)\n",
    "\n",
    "# Local Outlier Factor\n",
    "lof = LocalOutlierFactor(n_neighbors=20, contamination=0.1)\n",
    "lof_pred = lof.fit_predict(filltered_data)\n",
    "\n",
    "# One-Class SVM\n",
    "ocsvm = OneClassSVM(nu=0.1, kernel=\"rbf\", gamma=0.1)\n",
    "ocsvm.fit(filltered_data)\n",
    "svm_pred = ocsvm.predict(filltered_data)"
   ]
  },
  {
   "cell_type": "code",
   "execution_count": null,
   "id": "21ed5e7a",
   "metadata": {},
   "outputs": [],
   "source": [
    "fig, axs = plt.subplots(1, 3, figsize=(18, 5))\n",
    "\n",
    "methods = ['Isolation Forest', 'Local Outlier Factor', 'One-Class SVM']\n",
    "predictions = [iso_pred, lof_pred, svm_pred]\n",
    "\n",
    "for i, ax in enumerate(axs):\n",
    "    \n",
    "    ax.set_title(methods[i])\n",
    "    inliers = filltered_data[predictions[i] == 1]\n",
    "    outliers = filltered_data[predictions[i] == -1]\n",
    "    \n",
    "    ax.scatter(inliers.iloc[:, 0], inliers.iloc[:, 1], c='blue', label='Inliers')\n",
    "    ax.scatter(outliers.iloc[:, 0], outliers.iloc[:, 1], c='red', label='Outliers')\n",
    "    ax.legend()\n",
    "\n",
    "plt.tight_layout()\n",
    "plt.show()"
   ]
  },
  {
   "cell_type": "code",
   "execution_count": null,
   "id": "8fdc1a4b",
   "metadata": {},
   "outputs": [],
   "source": [
    "mask = iso_pred == 1\n",
    "X_cleaned = filltered_data[mask]\n",
    "type(X_cleaned)"
   ]
  },
  {
   "cell_type": "code",
   "execution_count": 20,
   "id": "d4232d3c",
   "metadata": {},
   "outputs": [],
   "source": [
    "from imblearn.over_sampling import SMOTE\n",
    "\n",
    "y=X_cleaned[\"Churn\"]\n",
    "x=X_cleaned.drop(\"Churn\",axis=1)\n",
    "\n",
    "X_resampled,y_resampled =SMOTE().fit_resample(x, y)"
   ]
  },
  {
   "cell_type": "code",
   "execution_count": null,
   "id": "52b9b6ec",
   "metadata": {},
   "outputs": [],
   "source": [
    "y_resampled.shape"
   ]
  },
  {
   "cell_type": "code",
   "execution_count": null,
   "id": "793f9a4d",
   "metadata": {},
   "outputs": [],
   "source": [
    "\n",
    "c=pd.concat([X_resampled,y_resampled],axis=1)\n",
    "c"
   ]
  },
  {
   "cell_type": "code",
   "execution_count": null,
   "id": "69f11d2a",
   "metadata": {},
   "outputs": [],
   "source": [
    "df=pd.DataFrame(y_resampled)\n",
    "sns.countplot(data=df,x=\"Churn\")"
   ]
  },
  {
   "cell_type": "code",
   "execution_count": null,
   "id": "d72d027f",
   "metadata": {},
   "outputs": [],
   "source": [
    "X_resampled.shape,y_resampled.shape"
   ]
  },
  {
   "cell_type": "code",
   "execution_count": 23,
   "id": "2b9864f3",
   "metadata": {},
   "outputs": [],
   "source": [
    "y_resampled=pd.DataFrame(y_resampled)\n",
    "proced_data=pd.concat([X_resampled,y_resampled])"
   ]
  },
  {
   "cell_type": "code",
   "execution_count": 24,
   "id": "76bb4ea4",
   "metadata": {},
   "outputs": [],
   "source": [
    "import os\n",
    "\n",
    "save_dir = '../data/processed'\n",
    "save_path = os.path.join(save_dir,'processed_data.csv')\n",
    "\n",
    "os.makedirs(save_dir, exist_ok=True)\n",
    "proced_data.to_csv(save_path, index=False)"
   ]
  },
  {
   "cell_type": "code",
   "execution_count": null,
   "id": "d0e9e66f",
   "metadata": {},
   "outputs": [],
   "source": [
    "proced_data.iloc[:,:-1]"
   ]
  }
 ],
 "metadata": {
  "kernelspec": {
   "display_name": "churn",
   "language": "python",
   "name": "python3"
  },
  "language_info": {
   "codemirror_mode": {
    "name": "ipython",
    "version": 3
   },
   "file_extension": ".py",
   "mimetype": "text/x-python",
   "name": "python",
   "nbconvert_exporter": "python",
   "pygments_lexer": "ipython3",
   "version": "3.11.9"
  }
 },
 "nbformat": 4,
 "nbformat_minor": 5
}
